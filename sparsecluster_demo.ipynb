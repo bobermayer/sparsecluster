{
 "cells": [
  {
   "cell_type": "markdown",
   "id": "dbaa89e8",
   "metadata": {},
   "source": [
    "# sparsecluster demo"
   ]
  },
  {
   "cell_type": "markdown",
   "id": "6765b59b",
   "metadata": {},
   "source": [
    "`sparsecluster` is a wrapper around `pynndescent` for efficient construction of nearest-neighbor graphs and `gbbs` for graph-based hierarchical clustering. the basic idea is to use an approximate distance matrix as input for linkage, in order to allow for clustering of large (and sparse) datasets"
   ]
  },
  {
   "cell_type": "code",
   "execution_count": 1,
   "id": "18481afc",
   "metadata": {},
   "outputs": [],
   "source": [
    "import numpy as np\n",
    "import sparsecluster\n",
    "import fastcluster\n",
    "from matplotlib import pyplot as plt\n",
    "import scipy.cluster.hierarchy\n",
    "import sklearn.cluster\n",
    "import scipy.cluster\n",
    "import sklearn.datasets\n",
    "import pandas as pd\n",
    "import time\n",
    "import seaborn as sns"
   ]
  },
  {
   "cell_type": "markdown",
   "id": "d699e555",
   "metadata": {},
   "source": [
    "## simple demo example"
   ]
  },
  {
   "cell_type": "markdown",
   "id": "14bfa3f2",
   "metadata": {},
   "source": [
    "for initial demo, use a random matrix for 10 samples and 5 features"
   ]
  },
  {
   "cell_type": "code",
   "execution_count": 2,
   "id": "a922ca69",
   "metadata": {},
   "outputs": [],
   "source": [
    "np.random.seed(0)\n",
    "X=np.random.rand(10,5)"
   ]
  },
  {
   "cell_type": "markdown",
   "id": "f95ae9dc",
   "metadata": {},
   "source": [
    "as baseline, we construct a full distance matrix using `scipy.spatial.distance.pdist` and an exact linkage using `fastcluster`"
   ]
  },
  {
   "cell_type": "code",
   "execution_count": 3,
   "id": "8ba18afc",
   "metadata": {},
   "outputs": [],
   "source": [
    "metric='euclidean'\n",
    "d0 = scipy.spatial.distance.pdist(X, metric=metric)\n",
    "Z0s = fastcluster.linkage(d0, metric=metric, method='single')"
   ]
  },
  {
   "cell_type": "markdown",
   "id": "6b52011f",
   "metadata": {},
   "source": [
    "now we use `sparsecluster` to construct distances and linkages for either 10 neighbors (i.e., the full matrix) or 5 neighbors (an approximation). during nearest-neighbor descent, we can store additional distances for `n_backup` non-nearest neighbors. "
   ]
  },
  {
   "cell_type": "code",
   "execution_count": 4,
   "id": "69444ba2",
   "metadata": {},
   "outputs": [
    {
     "ename": "ImportError",
     "evalue": "dynamic module does not define module export function (PyInit_gbbs_lib)",
     "output_type": "error",
     "traceback": [
      "\u001b[0;31m---------------------------------------------------------------------------\u001b[0m",
      "\u001b[0;31mImportError\u001b[0m                               Traceback (most recent call last)",
      "Input \u001b[0;32mIn [4]\u001b[0m, in \u001b[0;36m<cell line: 1>\u001b[0;34m()\u001b[0m\n\u001b[0;32m----> 1\u001b[0m Z1s,d1 \u001b[38;5;241m=\u001b[39m \u001b[43msparsecluster\u001b[49m\u001b[38;5;241;43m.\u001b[39;49m\u001b[43mlinkage\u001b[49m\u001b[43m(\u001b[49m\u001b[43mX\u001b[49m\u001b[43m,\u001b[49m\u001b[43m \u001b[49m\u001b[43mmetric\u001b[49m\u001b[38;5;241;43m=\u001b[39;49m\u001b[43mmetric\u001b[49m\u001b[43m,\u001b[49m\u001b[43m \u001b[49m\u001b[43mmethod\u001b[49m\u001b[38;5;241;43m=\u001b[39;49m\u001b[38;5;124;43m'\u001b[39;49m\u001b[38;5;124;43msingle\u001b[39;49m\u001b[38;5;124;43m'\u001b[39;49m\u001b[43m,\u001b[49m\u001b[43m \u001b[49m\u001b[43mn_neighbors\u001b[49m\u001b[38;5;241;43m=\u001b[39;49m\u001b[38;5;241;43m10\u001b[39;49m\u001b[43m,\u001b[49m\u001b[43m \u001b[49m\u001b[43mreturn_distance\u001b[49m\u001b[38;5;241;43m=\u001b[39;49m\u001b[38;5;28;43;01mTrue\u001b[39;49;00m\u001b[43m)\u001b[49m\n\u001b[1;32m      2\u001b[0m Z2s,d2 \u001b[38;5;241m=\u001b[39m sparsecluster\u001b[38;5;241m.\u001b[39mlinkage(X, metric\u001b[38;5;241m=\u001b[39mmetric, method\u001b[38;5;241m=\u001b[39m\u001b[38;5;124m'\u001b[39m\u001b[38;5;124msingle\u001b[39m\u001b[38;5;124m'\u001b[39m, n_neighbors\u001b[38;5;241m=\u001b[39m\u001b[38;5;241m5\u001b[39m, n_backup\u001b[38;5;241m=\u001b[39m\u001b[38;5;241m0\u001b[39m, return_distance\u001b[38;5;241m=\u001b[39m\u001b[38;5;28;01mTrue\u001b[39;00m)\n",
      "File \u001b[0;32m/data/sshfs/obermayb_c/bih_cluster/fast/work/groups/cubi/bobermay/minION/sparsecluster/sparsecluster/sparsecluster.py:284\u001b[0m, in \u001b[0;36mlinkage\u001b[0;34m(X, dist, metric, metric_kwds, method, n_neighbors, n_backup, random_state, n_trees, n_iters, max_candidates, low_memory, n_jobs, verbose, compressed, return_distance, use_pybindings)\u001b[0m\n\u001b[1;32m    282\u001b[0m sys\u001b[38;5;241m.\u001b[39mpath\u001b[38;5;241m.\u001b[39mappend(gbbs_dir)\n\u001b[1;32m    283\u001b[0m sys\u001b[38;5;241m.\u001b[39mpath\u001b[38;5;241m.\u001b[39mappend(os\u001b[38;5;241m.\u001b[39mpath\u001b[38;5;241m.\u001b[39mjoin(gbbs_dir, \u001b[38;5;124m'\u001b[39m\u001b[38;5;124mbazel-bin/pybindings\u001b[39m\u001b[38;5;124m'\u001b[39m))\n\u001b[0;32m--> 284\u001b[0m \u001b[38;5;28;01mimport\u001b[39;00m \u001b[38;5;21;01mgbbs\u001b[39;00m\n\u001b[1;32m    286\u001b[0m \u001b[38;5;28;01mif\u001b[39;00m verbose:\n\u001b[1;32m    287\u001b[0m     \u001b[38;5;28mprint\u001b[39m(_ts(), \u001b[38;5;124m\"\u001b[39m\u001b[38;5;124mrunning gbbs HierarchicalAgglomerativeClustering with \u001b[39m\u001b[38;5;132;01m{0}\u001b[39;00m\u001b[38;5;124m linkage\u001b[39m\u001b[38;5;124m\"\u001b[39m\u001b[38;5;241m.\u001b[39mformat(method))\n",
      "File \u001b[0;32m/data/sshfs/obermayb_c/bih_cluster/fast/work/groups/cubi/bobermay/minION/sparsecluster/gbbs/gbbs.py:1\u001b[0m, in \u001b[0;36m<module>\u001b[0;34m\u001b[0m\n\u001b[0;32m----> 1\u001b[0m \u001b[38;5;28;01mfrom\u001b[39;00m \u001b[38;5;21;01mgbbs_lib\u001b[39;00m \u001b[38;5;28;01mimport\u001b[39;00m \u001b[38;5;241m*\u001b[39m\n\u001b[1;32m      2\u001b[0m \u001b[38;5;28;01mimport\u001b[39;00m \u001b[38;5;21;01mgbbs_lib\u001b[39;00m\n\u001b[1;32m      3\u001b[0m \u001b[38;5;28;01mimport\u001b[39;00m \u001b[38;5;21;01mos\u001b[39;00m\n",
      "\u001b[0;31mImportError\u001b[0m: dynamic module does not define module export function (PyInit_gbbs_lib)"
     ]
    }
   ],
   "source": [
    "Z1s,d1 = sparsecluster.linkage(X, metric=metric, method='single', n_neighbors=10, return_distance=True)\n",
    "Z2s,d2 = sparsecluster.linkage(X, metric=metric, method='single', n_neighbors=5, n_backup=0, return_distance=True)"
   ]
  },
  {
   "cell_type": "code",
   "execution_count": null,
   "id": "ed37c020",
   "metadata": {},
   "outputs": [],
   "source": [
    "fig,axs=plt.subplots(1,3,figsize=(12,4))\n",
    "axs[0].imshow(scipy.spatial.distance.squareform(d0), cmap=plt.cm.viridis, vmin=0, vmax=d0.max())\n",
    "axs[0].set_title('full distance matrix')\n",
    "axs[1].imshow(d1.todense(), cmap=plt.cm.viridis, vmin=0, vmax=d0.max())\n",
    "axs[1].set_title('10 nearest neighbors')\n",
    "axs[2].imshow(d2.todense(), cmap=plt.cm.viridis, vmin=0, vmax=d0.max())\n",
    "axs[2].set_title('5 nearest neighbors')"
   ]
  },
  {
   "cell_type": "markdown",
   "id": "2e70ea26",
   "metadata": {},
   "source": [
    "even though the sparse approximation is missing entries for larger distances, the resulting dendrograms (using single linkage) are equivalent, possibly up to a re-ordering"
   ]
  },
  {
   "cell_type": "code",
   "execution_count": null,
   "id": "b934ed91",
   "metadata": {},
   "outputs": [],
   "source": [
    "fig,axs=plt.subplots(1,3,figsize=(6,5),sharex=True)\n",
    "L0=scipy.cluster.hierarchy.dendrogram(Z0s,ax=axs[0],orientation='right')\n",
    "L1=scipy.cluster.hierarchy.dendrogram(Z1s,ax=axs[1],orientation='right')\n",
    "L2=scipy.cluster.hierarchy.dendrogram(Z2s,ax=axs[2],orientation='right')\n",
    "axs[0].set_title('full matrix')\n",
    "axs[1].set_title('10 neighbors')\n",
    "axs[2].set_title('5 neighbors')"
   ]
  },
  {
   "cell_type": "markdown",
   "id": "353eb174",
   "metadata": {},
   "source": [
    "try the same thing with complete or average linkage (but skipping the re-calculation of the distance matrices): 5 nearest neighbors is not always enough"
   ]
  },
  {
   "cell_type": "code",
   "execution_count": null,
   "id": "22ceede0",
   "metadata": {},
   "outputs": [],
   "source": [
    "Z0c = fastcluster.linkage(d0, metric=metric, method='complete')\n",
    "Z1c = sparsecluster.linkage(X, dist=d1, metric=metric, method='complete', n_neighbors=10)\n",
    "Z2c = sparsecluster.linkage(X, dist=d2, metric=metric, method='complete', n_neighbors=5)\n",
    "\n",
    "Z0a = fastcluster.linkage(d0, metric=metric, method='average')\n",
    "Z1a = sparsecluster.linkage(X, dist=d1, metric=metric, method='average', n_neighbors=10)\n",
    "Z2a = sparsecluster.linkage(X, dist=d2, metric=metric, method='average', n_neighbors=5)"
   ]
  },
  {
   "cell_type": "code",
   "execution_count": null,
   "id": "d505bea0",
   "metadata": {},
   "outputs": [],
   "source": [
    "fig,axs=plt.subplots(2,3,figsize=(6,8))\n",
    "\n",
    "L0=scipy.cluster.hierarchy.dendrogram(Z0c,ax=axs[0,0],orientation='right')\n",
    "L1=scipy.cluster.hierarchy.dendrogram(Z1c,ax=axs[0,1],orientation='right')\n",
    "L2=scipy.cluster.hierarchy.dendrogram(Z2c,ax=axs[0,2],orientation='right')\n",
    "\n",
    "L0=scipy.cluster.hierarchy.dendrogram(Z0a,ax=axs[1,0],orientation='right')\n",
    "L1=scipy.cluster.hierarchy.dendrogram(Z1a,ax=axs[1,1],orientation='right')\n",
    "L2=scipy.cluster.hierarchy.dendrogram(Z2a,ax=axs[1,2],orientation='right')\n",
    "\n",
    "axs[0,0].set_title('full matrix')\n",
    "axs[0,1].set_title('10 neighbors')\n",
    "axs[0,2].set_title('5 neighbors')\n",
    "\n",
    "axs[1,0].set_title('full matrix')\n",
    "axs[1,1].set_title('10 neighbors')\n",
    "axs[1,2].set_title('5 neighbors')\n",
    "\n",
    "axs[0,0].set_ylabel(\"complete linkage\")\n",
    "axs[1,0].set_ylabel(\"average linkage\")"
   ]
  },
  {
   "cell_type": "markdown",
   "id": "0e4c837b",
   "metadata": {},
   "source": [
    "## how many neighbors are enough?"
   ]
  },
  {
   "cell_type": "markdown",
   "id": "323e9b9b",
   "metadata": {},
   "source": [
    "use the `digits` dataset to compare the `sparsecluster` linkages to the `fastcluster` linkages "
   ]
  },
  {
   "cell_type": "code",
   "execution_count": null,
   "id": "663bf8a3",
   "metadata": {},
   "outputs": [],
   "source": [
    "digits = sklearn.datasets.load_digits()\n",
    "X, y = digits.data, digits.target"
   ]
  },
  {
   "cell_type": "code",
   "execution_count": null,
   "id": "50ba5ea7",
   "metadata": {},
   "outputs": [],
   "source": [
    "nc=10\n",
    "metric='cosine'\n",
    "\n",
    "fastcluster_linkage = {}\n",
    "for method in (\"single\", \"complete\", \"average\"):\n",
    "    fastcluster_linkage[method] = fastcluster.linkage(X, method=method, metric=metric)\n",
    "    \n",
    "sparsecluster_linkage = {}\n",
    "for nfrac in [.01, .02, .05, .1, .2, .5]:\n",
    "    for bfrac in [0, 1, 2, 5]:\n",
    "        nn = int(nfrac*X.shape[0])\n",
    "        for r in range(3):\n",
    "            Zs, ds = sparsecluster.linkage(X, metric=metric, method='single', \n",
    "                                           n_neighbors=nn, n_backup=bfrac*nn, \n",
    "                                           n_jobs=8, random_state=r,\n",
    "                                           return_distance=True)\n",
    "            \n",
    "            Zc = sparsecluster.linkage(X, dist=ds, metric=metric, method='complete')           \n",
    "            Za = sparsecluster.linkage(X, dist=ds, metric=metric, method='average')           \n",
    "\n",
    "            sparsecluster_linkage[('single',nfrac, bfrac, r)] = Zs\n",
    "            sparsecluster_linkage[('complete',nfrac, bfrac, r)] = Zc\n",
    "            sparsecluster_linkage[('average',nfrac, bfrac, r)] = Za"
   ]
  },
  {
   "cell_type": "markdown",
   "id": "d517a0d6",
   "metadata": {},
   "source": [
    "use use \"cophenetic distances\" (i.e., distances along the tree) to compare the linkages. here's a scatter plot of cophenetic distances for fastcluster vs. sparsecluster linkage (method=\"average\", 20% neighbors calculated), which are very similar for small distances and more divergent for larger ones"
   ]
  },
  {
   "cell_type": "code",
   "execution_count": null,
   "id": "66792ae0",
   "metadata": {},
   "outputs": [],
   "source": [
    "fig,axs=plt.subplots(1,3,figsize=(10,3.5), sharex=True, sharey=True)\n",
    "for n,method in enumerate(['single','average','complete']):\n",
    "    d1=scipy.cluster.hierarchy.cophenet(fastcluster_linkage[method])\n",
    "    d2=scipy.cluster.hierarchy.cophenet(sparsecluster_linkage[(method,.02,2,0)])\n",
    "    axs[n].plot(d1,d2,'.')\n",
    "    if n==1:\n",
    "        axs[n].set_xlabel('cophenetic distances in fastcluster linkage')\n",
    "    if n==0:\n",
    "        axs[n].set_ylabel('cophenetic distances in sparsecluster linkage')\n",
    "    axs[n].set_title(method)"
   ]
  },
  {
   "cell_type": "markdown",
   "id": "f5e72a24",
   "metadata": {},
   "source": [
    "more systematically, we can calculate the correlation between these cophenetic distances for different linkage methods and different number of neighbors and backup distances stored: for single linkage, the two methods give identical results, while for average or complete linkage, only small cophenetic distances are correctly reproduced. however, even 1% neighbors calculated is as good as it gets for average linkage"
   ]
  },
  {
   "cell_type": "code",
   "execution_count": null,
   "id": "a5736a57",
   "metadata": {},
   "outputs": [],
   "source": [
    "cc=dict((k,scipy.stats.pearsonr(scipy.cluster.hierarchy.cophenet(fastcluster_linkage[k[0]]),\n",
    "                                scipy.cluster.hierarchy.cophenet(sparsecluster_linkage[k]))[0]) \n",
    "        for k in sparsecluster_linkage.keys())"
   ]
  },
  {
   "cell_type": "code",
   "execution_count": null,
   "id": "c28fcbf4",
   "metadata": {},
   "outputs": [],
   "source": [
    "g=sns.relplot(data=pd.Series(cc).reset_index().rename({'level_1': 'fraction neighbors',\n",
    "                                                     'level_2': 'n_backup',\n",
    "                                                     'level_0': 'method',\n",
    "                                                     0: 'correlation'},axis=1),     \n",
    "            x='fraction neighbors',y='correlation',style='n_backup',hue='method', kind='line')\n",
    "g.ax.set_xscale('log')"
   ]
  },
  {
   "cell_type": "markdown",
   "id": "cd00cea5",
   "metadata": {},
   "source": [
    "## benchmarking time and memory usage"
   ]
  },
  {
   "cell_type": "markdown",
   "id": "4c73ca8c",
   "metadata": {},
   "source": [
    "use the `20newsgroups_vectorized` sparse dataset for benchmarking"
   ]
  },
  {
   "cell_type": "code",
   "execution_count": null,
   "id": "5fc0447f",
   "metadata": {},
   "outputs": [],
   "source": [
    "%load_ext memory_profiler\n",
    "\n",
    "data,labels = sklearn.datasets.fetch_20newsgroups_vectorized(subset='train',\n",
    "                                                             data_home='.',\n",
    "                                                             return_X_y=True)\n",
    "data_dense=np.asarray(data.todense())\n",
    "data"
   ]
  },
  {
   "cell_type": "markdown",
   "id": "0ea837bb",
   "metadata": {},
   "source": [
    "here's time and memory usage for `sparsecluster`"
   ]
  },
  {
   "cell_type": "code",
   "execution_count": null,
   "id": "769359b2",
   "metadata": {},
   "outputs": [],
   "source": [
    "%%time \n",
    "%memit Zs = sparsecluster.linkage(data, metric='cosine', method='single',  n_neighbors=100, n_backup=500, n_jobs=8)"
   ]
  },
  {
   "cell_type": "markdown",
   "id": "488adc5f",
   "metadata": {},
   "source": [
    "here's time and memory usage for `sparsecluster`, but with dense input"
   ]
  },
  {
   "cell_type": "code",
   "execution_count": null,
   "id": "e0bd47d4",
   "metadata": {},
   "outputs": [],
   "source": [
    "%%time \n",
    "%memit Zs = sparsecluster.linkage(data_dense, metric='cosine', method='single',  n_neighbors=100, n_backup=500, n_jobs=8)"
   ]
  },
  {
   "cell_type": "markdown",
   "id": "8cc69dd9",
   "metadata": {},
   "source": [
    "here's time and memory usage for `fastcluster`"
   ]
  },
  {
   "cell_type": "code",
   "execution_count": null,
   "id": "5681ff89",
   "metadata": {},
   "outputs": [],
   "source": [
    "%%time \n",
    "%memit Z0 = fastcluster.linkage(data_dense, metric='cosine', method='single')"
   ]
  }
 ],
 "metadata": {
  "kernelspec": {
   "display_name": "Python 3 (ipykernel)",
   "language": "python",
   "name": "python3"
  },
  "language_info": {
   "codemirror_mode": {
    "name": "ipython",
    "version": 3
   },
   "file_extension": ".py",
   "mimetype": "text/x-python",
   "name": "python",
   "nbconvert_exporter": "python",
   "pygments_lexer": "ipython3",
   "version": "3.8.0"
  }
 },
 "nbformat": 4,
 "nbformat_minor": 5
}
